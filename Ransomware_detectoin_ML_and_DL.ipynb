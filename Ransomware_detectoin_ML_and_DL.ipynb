{
  "nbformat": 4,
  "nbformat_minor": 0,
  "metadata": {
    "colab": {
      "provenance": [],
      "toc_visible": true,
      "include_colab_link": true
    },
    "kernelspec": {
      "name": "python3",
      "display_name": "Python 3"
    },
    "language_info": {
      "name": "python"
    }
  },
  "cells": [
    {
      "cell_type": "markdown",
      "metadata": {
        "id": "view-in-github",
        "colab_type": "text"
      },
      "source": [
        "<a href=\"https://colab.research.google.com/github/abhi57075/Ransomware-Detection/blob/main/Ransomware_detectoin_ML_and_DL.ipynb\" target=\"_parent\"><img src=\"https://colab.research.google.com/assets/colab-badge.svg\" alt=\"Open In Colab\"/></a>"
      ]
    },
    {
      "cell_type": "markdown",
      "source": [
        "## Collecting the data from gdrive and preprocessing it"
      ],
      "metadata": {
        "id": "loac-TlJcZ5P"
      }
    },
    {
      "cell_type": "code",
      "execution_count": null,
      "metadata": {
        "id": "8-RGVVMIplT3"
      },
      "outputs": [],
      "source": [
        "# Importing libraries required for data collection and data pre processing\n",
        "import pandas as pd\n",
        "import seaborn as sns"
      ]
    },
    {
      "cell_type": "code",
      "source": [
        "# Mounting our google drive\n",
        "from google.colab import drive\n",
        "drive.mount('/content/drive')"
      ],
      "metadata": {
        "colab": {
          "base_uri": "https://localhost:8080/"
        },
        "id": "aYXjuQuopyQj",
        "outputId": "661ec556-d75d-415b-b83f-fced71e79279"
      },
      "execution_count": null,
      "outputs": [
        {
          "output_type": "stream",
          "name": "stdout",
          "text": [
            "Drive already mounted at /content/drive; to attempt to forcibly remount, call drive.mount(\"/content/drive\", force_remount=True).\n"
          ]
        }
      ]
    },
    {
      "cell_type": "code",
      "source": [
        "# Reading our data\n",
        "data = pd.read_csv('/content/drive/MyDrive/data_file.csv')"
      ],
      "metadata": {
        "id": "eNkzEcJSqCRM"
      },
      "execution_count": null,
      "outputs": []
    },
    {
      "cell_type": "code",
      "source": [
        "data.shape"
      ],
      "metadata": {
        "colab": {
          "base_uri": "https://localhost:8080/"
        },
        "id": "NWjS4J2jqNFq",
        "outputId": "ff5ad862-c8bb-402b-8ea7-71e7bebb913f"
      },
      "execution_count": null,
      "outputs": [
        {
          "output_type": "execute_result",
          "data": {
            "text/plain": [
              "(62485, 18)"
            ]
          },
          "metadata": {},
          "execution_count": 54
        }
      ]
    },
    {
      "cell_type": "code",
      "source": [
        "# Gaining statistical information about our data\n",
        "data.describe()"
      ],
      "metadata": {
        "colab": {
          "base_uri": "https://localhost:8080/",
          "height": 320
        },
        "id": "9aLwUJVlqQsC",
        "outputId": "2eead353-e278-4d38-9ab9-c4b8f4b91599"
      },
      "execution_count": null,
      "outputs": [
        {
          "output_type": "execute_result",
          "data": {
            "text/plain": [
              "            Machine     DebugSize      DebugRVA  MajorImageVersion  \\\n",
              "count  62485.000000  6.248500e+04  6.248500e+04       62485.000000   \n",
              "mean    6756.472657  2.587048e+04  1.541611e+05          58.785997   \n",
              "std    13345.499919  6.461396e+06  1.903142e+06        1114.068244   \n",
              "min        0.000000  0.000000e+00  0.000000e+00           0.000000   \n",
              "25%      332.000000  0.000000e+00  0.000000e+00           0.000000   \n",
              "50%      332.000000  0.000000e+00  0.000000e+00           0.000000   \n",
              "75%      332.000000  2.800000e+01  1.283200e+04           6.000000   \n",
              "max    43620.000000  1.615155e+09  2.852127e+08       63325.000000   \n",
              "\n",
              "       MajorOSVersion     ExportRVA    ExportSize        IatVRA  \\\n",
              "count    62485.000000  6.248500e+04  6.248500e+04  6.248500e+04   \n",
              "mean         5.417524  8.953186e+05  4.094623e+05  1.466311e+05   \n",
              "std          2.543697  3.779527e+07  2.851820e+07  1.124630e+06   \n",
              "min          0.000000  0.000000e+00  0.000000e+00  0.000000e+00   \n",
              "25%          4.000000  0.000000e+00  0.000000e+00  4.096000e+03   \n",
              "50%          5.000000  0.000000e+00  0.000000e+00  8.520000e+03   \n",
              "75%          6.000000  2.875200e+04  1.040000e+02  6.553600e+04   \n",
              "max        260.000000  2.147484e+09  2.415919e+09  6.615450e+07   \n",
              "\n",
              "       MajorLinkerVersion  MinorLinkerVersion  NumberOfSections  \\\n",
              "count        62485.000000        62485.000000      62485.000000   \n",
              "mean             9.782604            6.613171          4.751172   \n",
              "std              9.047157           16.976465          2.138584   \n",
              "min              0.000000            0.000000          1.000000   \n",
              "25%              6.000000            0.000000          3.000000   \n",
              "50%              9.000000            0.000000          5.000000   \n",
              "75%             11.000000           10.000000          6.000000   \n",
              "max            255.000000          255.000000         33.000000   \n",
              "\n",
              "       SizeOfStackReserve  DllCharacteristics  ResourceSize  BitcoinAddresses  \\\n",
              "count        6.248500e+04        62485.000000  6.248500e+04      62485.000000   \n",
              "mean         8.759830e+05        12966.031400  1.844664e+05          0.018004   \n",
              "std          6.288189e+05        15762.725511  1.732625e+07          0.132968   \n",
              "min          0.000000e+00            0.000000  0.000000e+00          0.000000   \n",
              "25%          2.621440e+05            0.000000  1.080000e+03          0.000000   \n",
              "50%          1.048576e+06          320.000000  2.496000e+03          0.000000   \n",
              "75%          1.048576e+06        32768.000000  2.350400e+04          0.000000   \n",
              "max          1.677722e+07        58632.000000  4.294942e+09          1.000000   \n",
              "\n",
              "             Benign  \n",
              "count  62485.000000  \n",
              "mean       0.433992  \n",
              "std        0.495628  \n",
              "min        0.000000  \n",
              "25%        0.000000  \n",
              "50%        0.000000  \n",
              "75%        1.000000  \n",
              "max        1.000000  "
            ],
            "text/html": [
              "\n",
              "  <div id=\"df-2532c5b4-ed86-475e-8d1b-887a48bd45ca\" class=\"colab-df-container\">\n",
              "    <div>\n",
              "<style scoped>\n",
              "    .dataframe tbody tr th:only-of-type {\n",
              "        vertical-align: middle;\n",
              "    }\n",
              "\n",
              "    .dataframe tbody tr th {\n",
              "        vertical-align: top;\n",
              "    }\n",
              "\n",
              "    .dataframe thead th {\n",
              "        text-align: right;\n",
              "    }\n",
              "</style>\n",
              "<table border=\"1\" class=\"dataframe\">\n",
              "  <thead>\n",
              "    <tr style=\"text-align: right;\">\n",
              "      <th></th>\n",
              "      <th>Machine</th>\n",
              "      <th>DebugSize</th>\n",
              "      <th>DebugRVA</th>\n",
              "      <th>MajorImageVersion</th>\n",
              "      <th>MajorOSVersion</th>\n",
              "      <th>ExportRVA</th>\n",
              "      <th>ExportSize</th>\n",
              "      <th>IatVRA</th>\n",
              "      <th>MajorLinkerVersion</th>\n",
              "      <th>MinorLinkerVersion</th>\n",
              "      <th>NumberOfSections</th>\n",
              "      <th>SizeOfStackReserve</th>\n",
              "      <th>DllCharacteristics</th>\n",
              "      <th>ResourceSize</th>\n",
              "      <th>BitcoinAddresses</th>\n",
              "      <th>Benign</th>\n",
              "    </tr>\n",
              "  </thead>\n",
              "  <tbody>\n",
              "    <tr>\n",
              "      <th>count</th>\n",
              "      <td>62485.000000</td>\n",
              "      <td>6.248500e+04</td>\n",
              "      <td>6.248500e+04</td>\n",
              "      <td>62485.000000</td>\n",
              "      <td>62485.000000</td>\n",
              "      <td>6.248500e+04</td>\n",
              "      <td>6.248500e+04</td>\n",
              "      <td>6.248500e+04</td>\n",
              "      <td>62485.000000</td>\n",
              "      <td>62485.000000</td>\n",
              "      <td>62485.000000</td>\n",
              "      <td>6.248500e+04</td>\n",
              "      <td>62485.000000</td>\n",
              "      <td>6.248500e+04</td>\n",
              "      <td>62485.000000</td>\n",
              "      <td>62485.000000</td>\n",
              "    </tr>\n",
              "    <tr>\n",
              "      <th>mean</th>\n",
              "      <td>6756.472657</td>\n",
              "      <td>2.587048e+04</td>\n",
              "      <td>1.541611e+05</td>\n",
              "      <td>58.785997</td>\n",
              "      <td>5.417524</td>\n",
              "      <td>8.953186e+05</td>\n",
              "      <td>4.094623e+05</td>\n",
              "      <td>1.466311e+05</td>\n",
              "      <td>9.782604</td>\n",
              "      <td>6.613171</td>\n",
              "      <td>4.751172</td>\n",
              "      <td>8.759830e+05</td>\n",
              "      <td>12966.031400</td>\n",
              "      <td>1.844664e+05</td>\n",
              "      <td>0.018004</td>\n",
              "      <td>0.433992</td>\n",
              "    </tr>\n",
              "    <tr>\n",
              "      <th>std</th>\n",
              "      <td>13345.499919</td>\n",
              "      <td>6.461396e+06</td>\n",
              "      <td>1.903142e+06</td>\n",
              "      <td>1114.068244</td>\n",
              "      <td>2.543697</td>\n",
              "      <td>3.779527e+07</td>\n",
              "      <td>2.851820e+07</td>\n",
              "      <td>1.124630e+06</td>\n",
              "      <td>9.047157</td>\n",
              "      <td>16.976465</td>\n",
              "      <td>2.138584</td>\n",
              "      <td>6.288189e+05</td>\n",
              "      <td>15762.725511</td>\n",
              "      <td>1.732625e+07</td>\n",
              "      <td>0.132968</td>\n",
              "      <td>0.495628</td>\n",
              "    </tr>\n",
              "    <tr>\n",
              "      <th>min</th>\n",
              "      <td>0.000000</td>\n",
              "      <td>0.000000e+00</td>\n",
              "      <td>0.000000e+00</td>\n",
              "      <td>0.000000</td>\n",
              "      <td>0.000000</td>\n",
              "      <td>0.000000e+00</td>\n",
              "      <td>0.000000e+00</td>\n",
              "      <td>0.000000e+00</td>\n",
              "      <td>0.000000</td>\n",
              "      <td>0.000000</td>\n",
              "      <td>1.000000</td>\n",
              "      <td>0.000000e+00</td>\n",
              "      <td>0.000000</td>\n",
              "      <td>0.000000e+00</td>\n",
              "      <td>0.000000</td>\n",
              "      <td>0.000000</td>\n",
              "    </tr>\n",
              "    <tr>\n",
              "      <th>25%</th>\n",
              "      <td>332.000000</td>\n",
              "      <td>0.000000e+00</td>\n",
              "      <td>0.000000e+00</td>\n",
              "      <td>0.000000</td>\n",
              "      <td>4.000000</td>\n",
              "      <td>0.000000e+00</td>\n",
              "      <td>0.000000e+00</td>\n",
              "      <td>4.096000e+03</td>\n",
              "      <td>6.000000</td>\n",
              "      <td>0.000000</td>\n",
              "      <td>3.000000</td>\n",
              "      <td>2.621440e+05</td>\n",
              "      <td>0.000000</td>\n",
              "      <td>1.080000e+03</td>\n",
              "      <td>0.000000</td>\n",
              "      <td>0.000000</td>\n",
              "    </tr>\n",
              "    <tr>\n",
              "      <th>50%</th>\n",
              "      <td>332.000000</td>\n",
              "      <td>0.000000e+00</td>\n",
              "      <td>0.000000e+00</td>\n",
              "      <td>0.000000</td>\n",
              "      <td>5.000000</td>\n",
              "      <td>0.000000e+00</td>\n",
              "      <td>0.000000e+00</td>\n",
              "      <td>8.520000e+03</td>\n",
              "      <td>9.000000</td>\n",
              "      <td>0.000000</td>\n",
              "      <td>5.000000</td>\n",
              "      <td>1.048576e+06</td>\n",
              "      <td>320.000000</td>\n",
              "      <td>2.496000e+03</td>\n",
              "      <td>0.000000</td>\n",
              "      <td>0.000000</td>\n",
              "    </tr>\n",
              "    <tr>\n",
              "      <th>75%</th>\n",
              "      <td>332.000000</td>\n",
              "      <td>2.800000e+01</td>\n",
              "      <td>1.283200e+04</td>\n",
              "      <td>6.000000</td>\n",
              "      <td>6.000000</td>\n",
              "      <td>2.875200e+04</td>\n",
              "      <td>1.040000e+02</td>\n",
              "      <td>6.553600e+04</td>\n",
              "      <td>11.000000</td>\n",
              "      <td>10.000000</td>\n",
              "      <td>6.000000</td>\n",
              "      <td>1.048576e+06</td>\n",
              "      <td>32768.000000</td>\n",
              "      <td>2.350400e+04</td>\n",
              "      <td>0.000000</td>\n",
              "      <td>1.000000</td>\n",
              "    </tr>\n",
              "    <tr>\n",
              "      <th>max</th>\n",
              "      <td>43620.000000</td>\n",
              "      <td>1.615155e+09</td>\n",
              "      <td>2.852127e+08</td>\n",
              "      <td>63325.000000</td>\n",
              "      <td>260.000000</td>\n",
              "      <td>2.147484e+09</td>\n",
              "      <td>2.415919e+09</td>\n",
              "      <td>6.615450e+07</td>\n",
              "      <td>255.000000</td>\n",
              "      <td>255.000000</td>\n",
              "      <td>33.000000</td>\n",
              "      <td>1.677722e+07</td>\n",
              "      <td>58632.000000</td>\n",
              "      <td>4.294942e+09</td>\n",
              "      <td>1.000000</td>\n",
              "      <td>1.000000</td>\n",
              "    </tr>\n",
              "  </tbody>\n",
              "</table>\n",
              "</div>\n",
              "    <div class=\"colab-df-buttons\">\n",
              "\n",
              "  <div class=\"colab-df-container\">\n",
              "    <button class=\"colab-df-convert\" onclick=\"convertToInteractive('df-2532c5b4-ed86-475e-8d1b-887a48bd45ca')\"\n",
              "            title=\"Convert this dataframe to an interactive table.\"\n",
              "            style=\"display:none;\">\n",
              "\n",
              "  <svg xmlns=\"http://www.w3.org/2000/svg\" height=\"24px\" viewBox=\"0 -960 960 960\">\n",
              "    <path d=\"M120-120v-720h720v720H120Zm60-500h600v-160H180v160Zm220 220h160v-160H400v160Zm0 220h160v-160H400v160ZM180-400h160v-160H180v160Zm440 0h160v-160H620v160ZM180-180h160v-160H180v160Zm440 0h160v-160H620v160Z\"/>\n",
              "  </svg>\n",
              "    </button>\n",
              "\n",
              "  <style>\n",
              "    .colab-df-container {\n",
              "      display:flex;\n",
              "      gap: 12px;\n",
              "    }\n",
              "\n",
              "    .colab-df-convert {\n",
              "      background-color: #E8F0FE;\n",
              "      border: none;\n",
              "      border-radius: 50%;\n",
              "      cursor: pointer;\n",
              "      display: none;\n",
              "      fill: #1967D2;\n",
              "      height: 32px;\n",
              "      padding: 0 0 0 0;\n",
              "      width: 32px;\n",
              "    }\n",
              "\n",
              "    .colab-df-convert:hover {\n",
              "      background-color: #E2EBFA;\n",
              "      box-shadow: 0px 1px 2px rgba(60, 64, 67, 0.3), 0px 1px 3px 1px rgba(60, 64, 67, 0.15);\n",
              "      fill: #174EA6;\n",
              "    }\n",
              "\n",
              "    .colab-df-buttons div {\n",
              "      margin-bottom: 4px;\n",
              "    }\n",
              "\n",
              "    [theme=dark] .colab-df-convert {\n",
              "      background-color: #3B4455;\n",
              "      fill: #D2E3FC;\n",
              "    }\n",
              "\n",
              "    [theme=dark] .colab-df-convert:hover {\n",
              "      background-color: #434B5C;\n",
              "      box-shadow: 0px 1px 3px 1px rgba(0, 0, 0, 0.15);\n",
              "      filter: drop-shadow(0px 1px 2px rgba(0, 0, 0, 0.3));\n",
              "      fill: #FFFFFF;\n",
              "    }\n",
              "  </style>\n",
              "\n",
              "    <script>\n",
              "      const buttonEl =\n",
              "        document.querySelector('#df-2532c5b4-ed86-475e-8d1b-887a48bd45ca button.colab-df-convert');\n",
              "      buttonEl.style.display =\n",
              "        google.colab.kernel.accessAllowed ? 'block' : 'none';\n",
              "\n",
              "      async function convertToInteractive(key) {\n",
              "        const element = document.querySelector('#df-2532c5b4-ed86-475e-8d1b-887a48bd45ca');\n",
              "        const dataTable =\n",
              "          await google.colab.kernel.invokeFunction('convertToInteractive',\n",
              "                                                    [key], {});\n",
              "        if (!dataTable) return;\n",
              "\n",
              "        const docLinkHtml = 'Like what you see? Visit the ' +\n",
              "          '<a target=\"_blank\" href=https://colab.research.google.com/notebooks/data_table.ipynb>data table notebook</a>'\n",
              "          + ' to learn more about interactive tables.';\n",
              "        element.innerHTML = '';\n",
              "        dataTable['output_type'] = 'display_data';\n",
              "        await google.colab.output.renderOutput(dataTable, element);\n",
              "        const docLink = document.createElement('div');\n",
              "        docLink.innerHTML = docLinkHtml;\n",
              "        element.appendChild(docLink);\n",
              "      }\n",
              "    </script>\n",
              "  </div>\n",
              "\n",
              "\n",
              "<div id=\"df-a9eb9ca7-1ae9-4245-bf1a-e0abcf0b7234\">\n",
              "  <button class=\"colab-df-quickchart\" onclick=\"quickchart('df-a9eb9ca7-1ae9-4245-bf1a-e0abcf0b7234')\"\n",
              "            title=\"Suggest charts\"\n",
              "            style=\"display:none;\">\n",
              "\n",
              "<svg xmlns=\"http://www.w3.org/2000/svg\" height=\"24px\"viewBox=\"0 0 24 24\"\n",
              "     width=\"24px\">\n",
              "    <g>\n",
              "        <path d=\"M19 3H5c-1.1 0-2 .9-2 2v14c0 1.1.9 2 2 2h14c1.1 0 2-.9 2-2V5c0-1.1-.9-2-2-2zM9 17H7v-7h2v7zm4 0h-2V7h2v10zm4 0h-2v-4h2v4z\"/>\n",
              "    </g>\n",
              "</svg>\n",
              "  </button>\n",
              "\n",
              "<style>\n",
              "  .colab-df-quickchart {\n",
              "      --bg-color: #E8F0FE;\n",
              "      --fill-color: #1967D2;\n",
              "      --hover-bg-color: #E2EBFA;\n",
              "      --hover-fill-color: #174EA6;\n",
              "      --disabled-fill-color: #AAA;\n",
              "      --disabled-bg-color: #DDD;\n",
              "  }\n",
              "\n",
              "  [theme=dark] .colab-df-quickchart {\n",
              "      --bg-color: #3B4455;\n",
              "      --fill-color: #D2E3FC;\n",
              "      --hover-bg-color: #434B5C;\n",
              "      --hover-fill-color: #FFFFFF;\n",
              "      --disabled-bg-color: #3B4455;\n",
              "      --disabled-fill-color: #666;\n",
              "  }\n",
              "\n",
              "  .colab-df-quickchart {\n",
              "    background-color: var(--bg-color);\n",
              "    border: none;\n",
              "    border-radius: 50%;\n",
              "    cursor: pointer;\n",
              "    display: none;\n",
              "    fill: var(--fill-color);\n",
              "    height: 32px;\n",
              "    padding: 0;\n",
              "    width: 32px;\n",
              "  }\n",
              "\n",
              "  .colab-df-quickchart:hover {\n",
              "    background-color: var(--hover-bg-color);\n",
              "    box-shadow: 0 1px 2px rgba(60, 64, 67, 0.3), 0 1px 3px 1px rgba(60, 64, 67, 0.15);\n",
              "    fill: var(--button-hover-fill-color);\n",
              "  }\n",
              "\n",
              "  .colab-df-quickchart-complete:disabled,\n",
              "  .colab-df-quickchart-complete:disabled:hover {\n",
              "    background-color: var(--disabled-bg-color);\n",
              "    fill: var(--disabled-fill-color);\n",
              "    box-shadow: none;\n",
              "  }\n",
              "\n",
              "  .colab-df-spinner {\n",
              "    border: 2px solid var(--fill-color);\n",
              "    border-color: transparent;\n",
              "    border-bottom-color: var(--fill-color);\n",
              "    animation:\n",
              "      spin 1s steps(1) infinite;\n",
              "  }\n",
              "\n",
              "  @keyframes spin {\n",
              "    0% {\n",
              "      border-color: transparent;\n",
              "      border-bottom-color: var(--fill-color);\n",
              "      border-left-color: var(--fill-color);\n",
              "    }\n",
              "    20% {\n",
              "      border-color: transparent;\n",
              "      border-left-color: var(--fill-color);\n",
              "      border-top-color: var(--fill-color);\n",
              "    }\n",
              "    30% {\n",
              "      border-color: transparent;\n",
              "      border-left-color: var(--fill-color);\n",
              "      border-top-color: var(--fill-color);\n",
              "      border-right-color: var(--fill-color);\n",
              "    }\n",
              "    40% {\n",
              "      border-color: transparent;\n",
              "      border-right-color: var(--fill-color);\n",
              "      border-top-color: var(--fill-color);\n",
              "    }\n",
              "    60% {\n",
              "      border-color: transparent;\n",
              "      border-right-color: var(--fill-color);\n",
              "    }\n",
              "    80% {\n",
              "      border-color: transparent;\n",
              "      border-right-color: var(--fill-color);\n",
              "      border-bottom-color: var(--fill-color);\n",
              "    }\n",
              "    90% {\n",
              "      border-color: transparent;\n",
              "      border-bottom-color: var(--fill-color);\n",
              "    }\n",
              "  }\n",
              "</style>\n",
              "\n",
              "  <script>\n",
              "    async function quickchart(key) {\n",
              "      const quickchartButtonEl =\n",
              "        document.querySelector('#' + key + ' button');\n",
              "      quickchartButtonEl.disabled = true;  // To prevent multiple clicks.\n",
              "      quickchartButtonEl.classList.add('colab-df-spinner');\n",
              "      try {\n",
              "        const charts = await google.colab.kernel.invokeFunction(\n",
              "            'suggestCharts', [key], {});\n",
              "      } catch (error) {\n",
              "        console.error('Error during call to suggestCharts:', error);\n",
              "      }\n",
              "      quickchartButtonEl.classList.remove('colab-df-spinner');\n",
              "      quickchartButtonEl.classList.add('colab-df-quickchart-complete');\n",
              "    }\n",
              "    (() => {\n",
              "      let quickchartButtonEl =\n",
              "        document.querySelector('#df-a9eb9ca7-1ae9-4245-bf1a-e0abcf0b7234 button');\n",
              "      quickchartButtonEl.style.display =\n",
              "        google.colab.kernel.accessAllowed ? 'block' : 'none';\n",
              "    })();\n",
              "  </script>\n",
              "</div>\n",
              "    </div>\n",
              "  </div>\n"
            ]
          },
          "metadata": {},
          "execution_count": 55
        }
      ]
    },
    {
      "cell_type": "code",
      "source": [
        "# Obtaining the types of values stored in our data\n",
        "data.info()"
      ],
      "metadata": {
        "colab": {
          "base_uri": "https://localhost:8080/"
        },
        "id": "qVxy-KR7qSzV",
        "outputId": "a70f79a9-db52-4cdd-b610-5d78e8efc176"
      },
      "execution_count": null,
      "outputs": [
        {
          "output_type": "stream",
          "name": "stdout",
          "text": [
            "<class 'pandas.core.frame.DataFrame'>\n",
            "RangeIndex: 62485 entries, 0 to 62484\n",
            "Data columns (total 18 columns):\n",
            " #   Column              Non-Null Count  Dtype \n",
            "---  ------              --------------  ----- \n",
            " 0   FileName            62485 non-null  object\n",
            " 1   md5Hash             62485 non-null  object\n",
            " 2   Machine             62485 non-null  int64 \n",
            " 3   DebugSize           62485 non-null  int64 \n",
            " 4   DebugRVA            62485 non-null  int64 \n",
            " 5   MajorImageVersion   62485 non-null  int64 \n",
            " 6   MajorOSVersion      62485 non-null  int64 \n",
            " 7   ExportRVA           62485 non-null  int64 \n",
            " 8   ExportSize          62485 non-null  int64 \n",
            " 9   IatVRA              62485 non-null  int64 \n",
            " 10  MajorLinkerVersion  62485 non-null  int64 \n",
            " 11  MinorLinkerVersion  62485 non-null  int64 \n",
            " 12  NumberOfSections    62485 non-null  int64 \n",
            " 13  SizeOfStackReserve  62485 non-null  int64 \n",
            " 14  DllCharacteristics  62485 non-null  int64 \n",
            " 15  ResourceSize        62485 non-null  int64 \n",
            " 16  BitcoinAddresses    62485 non-null  int64 \n",
            " 17  Benign              62485 non-null  int64 \n",
            "dtypes: int64(16), object(2)\n",
            "memory usage: 8.6+ MB\n"
          ]
        }
      ]
    },
    {
      "cell_type": "code",
      "source": [
        "# Checking the number of null values in our data corresponding to each column\n",
        "data.isnull().sum()"
      ],
      "metadata": {
        "colab": {
          "base_uri": "https://localhost:8080/"
        },
        "id": "l7ksllOuqZIT",
        "outputId": "fef29abb-a768-4b54-b1ff-c2937a32e0f5"
      },
      "execution_count": null,
      "outputs": [
        {
          "output_type": "execute_result",
          "data": {
            "text/plain": [
              "FileName              0\n",
              "md5Hash               0\n",
              "Machine               0\n",
              "DebugSize             0\n",
              "DebugRVA              0\n",
              "MajorImageVersion     0\n",
              "MajorOSVersion        0\n",
              "ExportRVA             0\n",
              "ExportSize            0\n",
              "IatVRA                0\n",
              "MajorLinkerVersion    0\n",
              "MinorLinkerVersion    0\n",
              "NumberOfSections      0\n",
              "SizeOfStackReserve    0\n",
              "DllCharacteristics    0\n",
              "ResourceSize          0\n",
              "BitcoinAddresses      0\n",
              "Benign                0\n",
              "dtype: int64"
            ]
          },
          "metadata": {},
          "execution_count": 57
        }
      ]
    },
    {
      "cell_type": "code",
      "source": [
        "# Removing some columns from our data\n",
        "drp_clm = ['FileName','md5Hash']\n",
        "dataset = data.drop(columns =drp_clm, axis =1)"
      ],
      "metadata": {
        "id": "uvMUAfeOq2oj"
      },
      "execution_count": null,
      "outputs": []
    },
    {
      "cell_type": "code",
      "source": [
        "# separating the dependent and the independent variables from our data\n",
        "X= dataset.drop(columns='Benign', axis =1)\n",
        "Y= dataset['Benign']"
      ],
      "metadata": {
        "id": "kcpcCZYCq-em"
      },
      "execution_count": null,
      "outputs": []
    },
    {
      "cell_type": "code",
      "source": [
        "print(X)"
      ],
      "metadata": {
        "colab": {
          "base_uri": "https://localhost:8080/"
        },
        "id": "eD2CaYdSrF_6",
        "outputId": "10277988-2e18-43d6-ad56-9ff22f4bc67c"
      },
      "execution_count": null,
      "outputs": [
        {
          "output_type": "stream",
          "name": "stdout",
          "text": [
            "       Machine  DebugSize  DebugRVA  MajorImageVersion  MajorOSVersion  \\\n",
            "0          332          0         0                  0               4   \n",
            "1        34404         84    121728                 10              10   \n",
            "2          332          0         0                  0               4   \n",
            "3        34404         84     19904                 10              10   \n",
            "4        34404         84     97728                 10              10   \n",
            "...        ...        ...       ...                ...             ...   \n",
            "62480      332          0         0                  1               4   \n",
            "62481      332          0         0                  7              10   \n",
            "62482      332          0         0                  0               4   \n",
            "62483      332          0         0                  0               4   \n",
            "62484      332          0         0                  0               5   \n",
            "\n",
            "       ExportRVA  ExportSize  IatVRA  MajorLinkerVersion  MinorLinkerVersion  \\\n",
            "0              0           0    8192                   8                   0   \n",
            "1         126576        4930       0                  14                  10   \n",
            "2              0           0    8192                   8                   0   \n",
            "3          21312         252   18160                  14                  10   \n",
            "4         105792        1852   70592                  14                  10   \n",
            "...          ...         ...     ...                 ...                 ...   \n",
            "62480          0           0    4096                   6                   0   \n",
            "62481          0           0       0                   7                   0   \n",
            "62482          0           0  404908                   2                  50   \n",
            "62483      14448          70    4096                   8                   0   \n",
            "62484          0           0    4096                   9                   0   \n",
            "\n",
            "       NumberOfSections  SizeOfStackReserve  DllCharacteristics  ResourceSize  \\\n",
            "0                     3             1048576               34112           672   \n",
            "1                     8              262144               16864          1024   \n",
            "2                     3             1048576               34112           672   \n",
            "3                     6              262144               16736          1040   \n",
            "4                     7              262144               16736          1096   \n",
            "...                 ...                 ...                 ...           ...   \n",
            "62480                 3             1048576                   0         23504   \n",
            "62481                 7             1048576                   0         15704   \n",
            "62482                11             1048576                   0          2364   \n",
            "62483                 4             1048576                   0        130296   \n",
            "62484                 6             1048576                   0          6912   \n",
            "\n",
            "       BitcoinAddresses  \n",
            "0                     0  \n",
            "1                     0  \n",
            "2                     0  \n",
            "3                     0  \n",
            "4                     0  \n",
            "...                 ...  \n",
            "62480                 0  \n",
            "62481                 0  \n",
            "62482                 0  \n",
            "62483                 0  \n",
            "62484                 0  \n",
            "\n",
            "[62485 rows x 15 columns]\n"
          ]
        }
      ]
    },
    {
      "cell_type": "code",
      "source": [
        "print(Y)"
      ],
      "metadata": {
        "colab": {
          "base_uri": "https://localhost:8080/"
        },
        "id": "C6snX3qlrfZS",
        "outputId": "72c4bca3-5880-4548-f14a-a35db7e84a42"
      },
      "execution_count": null,
      "outputs": [
        {
          "output_type": "stream",
          "name": "stdout",
          "text": [
            "0        1\n",
            "1        1\n",
            "2        1\n",
            "3        1\n",
            "4        1\n",
            "        ..\n",
            "62480    0\n",
            "62481    0\n",
            "62482    0\n",
            "62483    0\n",
            "62484    0\n",
            "Name: Benign, Length: 62485, dtype: int64\n"
          ]
        }
      ]
    },
    {
      "cell_type": "markdown",
      "source": [
        "# Train test split"
      ],
      "metadata": {
        "id": "-2hfdWH6dZdZ"
      }
    },
    {
      "cell_type": "code",
      "source": [
        "import numpy as np\n",
        "from sklearn.model_selection import train_test_split"
      ],
      "metadata": {
        "id": "gOL0TgtRrhtu"
      },
      "execution_count": null,
      "outputs": []
    },
    {
      "cell_type": "code",
      "source": [
        "X_train, X_test, y_train, y_test = train_test_split(X,Y, test_size = 0.20, random_state = 1)"
      ],
      "metadata": {
        "id": "Ti2dGI1OsRlO"
      },
      "execution_count": null,
      "outputs": []
    },
    {
      "cell_type": "code",
      "source": [
        "print(X_train.shape)"
      ],
      "metadata": {
        "colab": {
          "base_uri": "https://localhost:8080/"
        },
        "id": "fg72knxvseXl",
        "outputId": "b5ac4d52-7ea0-4df2-a6ad-c6b263d39258"
      },
      "execution_count": null,
      "outputs": [
        {
          "output_type": "stream",
          "name": "stdout",
          "text": [
            "(49988, 15)\n"
          ]
        }
      ]
    },
    {
      "cell_type": "markdown",
      "source": [
        "# Random Forest Classifier model"
      ],
      "metadata": {
        "id": "4DWcNxw68u44"
      }
    },
    {
      "cell_type": "code",
      "source": [
        "from sklearn.metrics import accuracy_score\n",
        "from sklearn.metrics import classification_report"
      ],
      "metadata": {
        "id": "Ai4oELX3tRMc"
      },
      "execution_count": null,
      "outputs": []
    },
    {
      "cell_type": "code",
      "source": [
        "from sklearn.ensemble import RandomForestClassifier\n",
        "from sklearn.model_selection import train_test_split\n",
        "from sklearn.metrics import accuracy_score, classification_report\n",
        "import matplotlib.pyplot as plt\n",
        "\n",
        "n_estimators = 100\n",
        "max_depth = 5\n",
        "\n",
        "model_RFC = RandomForestClassifier(n_estimators=n_estimators, max_depth=max_depth)\n",
        "\n",
        "training_accuracy = []\n",
        "validation_accuracy = []\n",
        "\n",
        "for epoch in range(10, n_estimators + 1, 10):\n",
        "    model_RFC.set_params(n_estimators=epoch)\n",
        "    model_RFC.fit(X_train, y_train)\n",
        "\n",
        "    # Make predictions on the training set\n",
        "    train_predictions = model_RFC.predict(X_train)\n",
        "\n",
        "    # Make predictions on the validation set\n",
        "    val_predictions = model_RFC.predict(X_test)\n",
        "\n",
        "    # Calculate accuracy on training and validation sets\n",
        "    train_accuracy = accuracy_score(y_train, train_predictions)\n",
        "    val_accuracy = accuracy_score(y_test, val_predictions)\n",
        "\n",
        "    # Store accuracy scores\n",
        "    training_accuracy.append(train_accuracy)\n",
        "    validation_accuracy.append(val_accuracy)\n",
        "\n",
        "    print(f'Epoch {epoch}: Training Accuracy = {train_accuracy:.4f}, Validation Accuracy = {val_accuracy:.4f}')\n",
        "\n",
        "# Plot the accuracy after every 10 epochs\n",
        "plt.plot(range(10, n_estimators + 1, 10), training_accuracy, label='Training Accuracy')\n",
        "plt.plot(range(10, n_estimators + 1, 10), validation_accuracy, label='Validation Accuracy')\n",
        "plt.xlabel('Number of Trees')\n",
        "plt.ylabel('Accuracy')\n",
        "plt.legend()\n",
        "plt.show()\n"
      ],
      "metadata": {
        "colab": {
          "base_uri": "https://localhost:8080/",
          "height": 623
        },
        "id": "te4W_UXyzSP9",
        "outputId": "5656ef17-3776-4e79-dba4-a7376abb8b9e"
      },
      "execution_count": null,
      "outputs": [
        {
          "output_type": "stream",
          "name": "stdout",
          "text": [
            "Epoch 10: Training Accuracy = 0.9813, Validation Accuracy = 0.9798\n",
            "Epoch 20: Training Accuracy = 0.9858, Validation Accuracy = 0.9860\n",
            "Epoch 30: Training Accuracy = 0.9853, Validation Accuracy = 0.9842\n",
            "Epoch 40: Training Accuracy = 0.9838, Validation Accuracy = 0.9828\n",
            "Epoch 50: Training Accuracy = 0.9872, Validation Accuracy = 0.9867\n",
            "Epoch 60: Training Accuracy = 0.9864, Validation Accuracy = 0.9842\n",
            "Epoch 70: Training Accuracy = 0.9862, Validation Accuracy = 0.9845\n",
            "Epoch 80: Training Accuracy = 0.9871, Validation Accuracy = 0.9854\n",
            "Epoch 90: Training Accuracy = 0.9849, Validation Accuracy = 0.9840\n",
            "Epoch 100: Training Accuracy = 0.9859, Validation Accuracy = 0.9851\n"
          ]
        },
        {
          "output_type": "display_data",
          "data": {
            "text/plain": [
              "<Figure size 640x480 with 1 Axes>"
            ],
            "image/png": "[encoded data removed]"
          },
          "metadata": {}
        }
      ]
    },
    {
      "cell_type": "code",
      "source": [
        "from sklearn.ensemble import RandomForestClassifier\n",
        "import matplotlib.pyplot as plt\n",
        "\n",
        "model_RFC = RandomForestClassifier(n_estimators = 500, max_depth = 5)\n",
        "history1 = model_RFC.fit(X_train, y_train)\n",
        "y_pred = model_RFC.predict(X_test)\n",
        "print(f'Accuracy for Random Forest classifier model is : {accuracy_score(y_pred, y_test)}')\n",
        "print(classification_report(y_pred,y_test))"
      ],
      "metadata": {
        "colab": {
          "base_uri": "https://localhost:8080/"
        },
        "id": "Lsc3LIqnwSkG",
        "outputId": "0e700d5f-bad7-4dc9-feb3-e894693d5980"
      },
      "execution_count": null,
      "outputs": [
        {
          "output_type": "stream",
          "name": "stdout",
          "text": [
            "Accuracy for Random Forest classifier model is : 0.9847163319196607\n",
            "              precision    recall  f1-score   support\n",
            "\n",
            "           0       0.99      0.98      0.99      7020\n",
            "           1       0.97      0.99      0.98      5477\n",
            "\n",
            "    accuracy                           0.98     12497\n",
            "   macro avg       0.98      0.99      0.98     12497\n",
            "weighted avg       0.98      0.98      0.98     12497\n",
            "\n"
          ]
        }
      ]
    },
    {
      "cell_type": "markdown",
      "source": [
        "# Logistic Regression Model"
      ],
      "metadata": {
        "id": "Elayp6_m8zBU"
      }
    },
    {
      "cell_type": "code",
      "source": [
        "from sklearn.linear_model import LogisticRegression\n",
        "from sklearn.model_selection import train_test_split\n",
        "from sklearn.metrics import accuracy_score\n",
        "import matplotlib.pyplot as plt\n",
        "import warnings\n",
        "from sklearn.exceptions import ConvergenceWarning  # Import ConvergenceWarning\n",
        "\n",
        "# Create a Logistic Regression classifier\n",
        "model_LRC = LogisticRegression(max_iter=1000)  # Increase max_iter to avoid ConvergenceWarning\n",
        "\n",
        "# Disable ConvergenceWarning\n",
        "warnings.filterwarnings(\"ignore\", category=ConvergenceWarning)\n",
        "\n",
        "# Lists to store accuracy scores\n",
        "training_accuracy = []\n",
        "validation_accuracy = []\n",
        "\n",
        "# Train the model incrementally and record accuracy after every step\n",
        "for step in range(10, 101, 10):\n",
        "    # Train the model with a subset of data\n",
        "    model_LRC.fit(X_train[:step], y_train[:step])\n",
        "\n",
        "    # Make predictions on the training set\n",
        "    train_predictions = model_LRC.predict(X_train)\n",
        "\n",
        "    # Make predictions on the validation set\n",
        "    val_predictions = model_LRC.predict(X_test)\n",
        "\n",
        "    # Calculate accuracy on training and validation sets\n",
        "    train_accuracy = accuracy_score(y_train, train_predictions)\n",
        "    val_accuracy = accuracy_score(y_test, val_predictions)\n",
        "\n",
        "    # Store accuracy scores\n",
        "    training_accuracy.append(train_accuracy)\n",
        "    validation_accuracy.append(val_accuracy)\n",
        "\n",
        "    print(f'Step {step}: Training Accuracy = {train_accuracy:.4f}, Validation Accuracy = {val_accuracy:.4f}')\n",
        "\n",
        "# Plot the accuracy after every step\n",
        "plt.plot(range(10, 101, 10), training_accuracy, label='Training Accuracy')\n",
        "plt.plot(range(10, 101, 10), validation_accuracy, label='Validation Accuracy')\n",
        "plt.xlabel('Training Data Size')\n",
        "plt.ylabel('Accuracy')\n",
        "plt.legend()\n",
        "plt.show()\n"
      ],
      "metadata": {
        "colab": {
          "base_uri": "https://localhost:8080/",
          "height": 623
        },
        "id": "RPJrSJWy7WCg",
        "outputId": "57931d44-0722-4fec-d27d-ae77c308d709"
      },
      "execution_count": null,
      "outputs": [
        {
          "output_type": "stream",
          "name": "stdout",
          "text": [
            "Step 10: Training Accuracy = 0.5740, Validation Accuracy = 0.5737\n",
            "Step 20: Training Accuracy = 0.7545, Validation Accuracy = 0.7519\n",
            "Step 30: Training Accuracy = 0.7575, Validation Accuracy = 0.7526\n",
            "Step 40: Training Accuracy = 0.7818, Validation Accuracy = 0.7828\n",
            "Step 50: Training Accuracy = 0.8056, Validation Accuracy = 0.8040\n",
            "Step 60: Training Accuracy = 0.8038, Validation Accuracy = 0.8035\n",
            "Step 70: Training Accuracy = 0.8812, Validation Accuracy = 0.8742\n",
            "Step 80: Training Accuracy = 0.8644, Validation Accuracy = 0.8639\n",
            "Step 90: Training Accuracy = 0.8973, Validation Accuracy = 0.8929\n",
            "Step 100: Training Accuracy = 0.9055, Validation Accuracy = 0.9032\n"
          ]
        },
        {
          "output_type": "display_data",
          "data": {
            "text/plain": [
              "<Figure size 640x480 with 1 Axes>"
            ],
            "image/png": "[encoded data removed]"
          },
          "metadata": {}
        }
      ]
    },
    {
      "cell_type": "code",
      "source": [
        "from sklearn.linear_model import LogisticRegression\n",
        "import matplotlib.pyplot as plt\n",
        "\n",
        "model_LRC = LogisticRegression()\n",
        "history1 = model_LRC.fit(X_train, y_train)\n",
        "y_pred = model_LRC.predict(X_test)\n",
        "print(f'Accuracy for Logistic Regression classifier model is : {accuracy_score(y_pred, y_test)}')\n",
        "print(classification_report(y_pred,y_test))"
      ],
      "metadata": {
        "colab": {
          "base_uri": "https://localhost:8080/"
        },
        "id": "Z47jCF52tMA_",
        "outputId": "4503f415-aad9-4854-ae63-69765ce316f6"
      },
      "execution_count": null,
      "outputs": [
        {
          "output_type": "stream",
          "name": "stdout",
          "text": [
            "Accuracy for Logistic Regression classifier model is : 0.7750660158438025\n",
            "              precision    recall  f1-score   support\n",
            "\n",
            "           0       0.93      0.74      0.82      8730\n",
            "           1       0.59      0.87      0.70      3767\n",
            "\n",
            "    accuracy                           0.78     12497\n",
            "   macro avg       0.76      0.80      0.76     12497\n",
            "weighted avg       0.82      0.78      0.78     12497\n",
            "\n"
          ]
        }
      ]
    },
    {
      "cell_type": "markdown",
      "source": [
        "# Gaussian Naive Bayes Model\n",
        "\n",
        "\n"
      ],
      "metadata": {
        "id": "4lvGO83QPlLD"
      }
    },
    {
      "cell_type": "code",
      "source": [
        "from sklearn.naive_bayes import GaussianNB\n",
        "from sklearn.model_selection import train_test_split\n",
        "from sklearn.metrics import accuracy_score\n",
        "import matplotlib.pyplot as plt\n",
        "import warnings\n",
        "from sklearn.exceptions import ConvergenceWarning  # Import ConvergenceWarning\n",
        "\n",
        "# Create a Gaussian Naive Bayes classifier\n",
        "model_GNB = GaussianNB()  # Increase max_iter to avoid ConvergenceWarning\n",
        "\n",
        "# Disable ConvergenceWarning\n",
        "warnings.filterwarnings(\"ignore\", category=ConvergenceWarning)\n",
        "\n",
        "# Lists to store accuracy scores\n",
        "training_accuracy = []\n",
        "validation_accuracy = []\n",
        "\n",
        "# Train the model incrementally and record accuracy after every step\n",
        "for step in range(10, 101, 10):\n",
        "    # Train the model with a subset of data\n",
        "    model_GNB.fit(X_train[:step], y_train[:step])\n",
        "\n",
        "    # Make predictions on the training set\n",
        "    train_predictions = model_GNB.predict(X_train)\n",
        "\n",
        "    # Make predictions on the validation set\n",
        "    val_predictions = model_GNB.predict(X_test)\n",
        "\n",
        "    # Calculate accuracy on training and validation sets\n",
        "    train_accuracy = accuracy_score(y_train, train_predictions)\n",
        "    val_accuracy = accuracy_score(y_test, val_predictions)\n",
        "\n",
        "    # Store accuracy scores\n",
        "    training_accuracy.append(train_accuracy)\n",
        "    validation_accuracy.append(val_accuracy)\n",
        "\n",
        "    print(f'Step {step}: Training Accuracy = {train_accuracy:.4f}, Validation Accuracy = {val_accuracy:.4f}')\n",
        "\n",
        "# Plot the accuracy after every step\n",
        "plt.plot(range(10, 101, 10), training_accuracy, label='Training Accuracy')\n",
        "plt.plot(range(10, 101, 10), validation_accuracy, label='Validation Accuracy')\n",
        "plt.xlabel('Training Data Size')\n",
        "plt.ylabel('Accuracy')\n",
        "plt.legend()\n",
        "plt.show()\n"
      ],
      "metadata": {
        "id": "Lx09rVI79DTJ",
        "colab": {
          "base_uri": "https://localhost:8080/",
          "height": 623
        },
        "outputId": "2b7abeb7-857e-4e38-89e6-4722c8abdf63"
      },
      "execution_count": null,
      "outputs": [
        {
          "output_type": "stream",
          "name": "stdout",
          "text": [
            "Step 10: Training Accuracy = 0.6038, Validation Accuracy = 0.6175\n",
            "Step 20: Training Accuracy = 0.8172, Validation Accuracy = 0.8191\n",
            "Step 30: Training Accuracy = 0.8164, Validation Accuracy = 0.8179\n",
            "Step 40: Training Accuracy = 0.8139, Validation Accuracy = 0.8165\n",
            "Step 50: Training Accuracy = 0.8191, Validation Accuracy = 0.8226\n",
            "Step 60: Training Accuracy = 0.8201, Validation Accuracy = 0.8228\n",
            "Step 70: Training Accuracy = 0.8198, Validation Accuracy = 0.8225\n",
            "Step 80: Training Accuracy = 0.8181, Validation Accuracy = 0.8210\n",
            "Step 90: Training Accuracy = 0.8177, Validation Accuracy = 0.8208\n",
            "Step 100: Training Accuracy = 0.8170, Validation Accuracy = 0.8207\n"
          ]
        },
        {
          "output_type": "display_data",
          "data": {
            "text/plain": [
              "<Figure size 640x480 with 1 Axes>"
            ],
            "image/png": "[encoded data removed]"
          },
          "metadata": {}
        }
      ]
    },
    {
      "cell_type": "code",
      "source": [
        "from sklearn.naive_bayes import GaussianNB\n",
        "import matplotlib.pyplot as plt\n",
        "\n",
        "model_GNB = GaussianNB()\n",
        "history1 = model_GNB.fit(X_train, y_train)\n",
        "y_pred = model_GNB.predict(X_test)\n",
        "print(f'Accuracy for Gaussian Naive Bayes classifier model is : {accuracy_score(y_pred, y_test)}')\n",
        "print(classification_report(y_pred,y_test))"
      ],
      "metadata": {
        "colab": {
          "base_uri": "https://localhost:8080/"
        },
        "id": "uBEfTBx-NgbM",
        "outputId": "34354246-8fc7-4c56-dff8-81e1c2bcf59f"
      },
      "execution_count": null,
      "outputs": [
        {
          "output_type": "stream",
          "name": "stdout",
          "text": [
            "Accuracy for Gaussian Naive Bayes classifier model is : 0.4452268544450668\n",
            "              precision    recall  f1-score   support\n",
            "\n",
            "           0       0.00      0.46      0.00        28\n",
            "           1       1.00      0.45      0.62     12469\n",
            "\n",
            "    accuracy                           0.45     12497\n",
            "   macro avg       0.50      0.45      0.31     12497\n",
            "weighted avg       1.00      0.45      0.61     12497\n",
            "\n"
          ]
        }
      ]
    },
    {
      "cell_type": "markdown",
      "source": [
        "# Support Vector Machine Model"
      ],
      "metadata": {
        "id": "u235vaC6O_hc"
      }
    },
    {
      "cell_type": "code",
      "source": [
        "from sklearn.svm import SVC\n",
        "from sklearn.model_selection import train_test_split\n",
        "from sklearn.metrics import accuracy_score\n",
        "import matplotlib.pyplot as plt\n",
        "import warnings\n",
        "from sklearn.exceptions import ConvergenceWarning  # Import ConvergenceWarning\n",
        "\n",
        "# Create a Support Vector Machine classifier\n",
        "model_SVC = SVC()  # Increase max_iter to avoid ConvergenceWarning\n",
        "\n",
        "# Disable ConvergenceWarning\n",
        "warnings.filterwarnings(\"ignore\", category=ConvergenceWarning)\n",
        "\n",
        "# Lists to store accuracy scores\n",
        "training_accuracy = []\n",
        "validation_accuracy = []\n",
        "\n",
        "# Train the model incrementally and record accuracy after every step\n",
        "for step in range(10, 101, 10):\n",
        "    # Train the model with a subset of data\n",
        "    model_SVC.fit(X_train[:step], y_train[:step])\n",
        "\n",
        "    # Make predictions on the training set\n",
        "    train_predictions = model_SVC.predict(X_train)\n",
        "\n",
        "    # Make predictions on the validation set\n",
        "    val_predictions = model_SVC.predict(X_test)\n",
        "\n",
        "    # Calculate accuracy on training and validation sets\n",
        "    train_accuracy = accuracy_score(y_train, train_predictions)\n",
        "    val_accuracy = accuracy_score(y_test, val_predictions)\n",
        "\n",
        "    # Store accuracy scores\n",
        "    training_accuracy.append(train_accuracy)\n",
        "    validation_accuracy.append(val_accuracy)\n",
        "\n",
        "    print(f'Step {step}: Training Accuracy = {train_accuracy:.4f}, Validation Accuracy = {val_accuracy:.4f}')\n",
        "\n",
        "# Plot the accuracy after every step\n",
        "plt.plot(range(10, 101, 10), training_accuracy, label='Training Accuracy')\n",
        "plt.plot(range(10, 101, 10), validation_accuracy, label='Validation Accuracy')\n",
        "plt.xlabel('Training Data Size')\n",
        "plt.ylabel('Accuracy')\n",
        "plt.legend()\n",
        "plt.show()\n"
      ],
      "metadata": {
        "colab": {
          "base_uri": "https://localhost:8080/",
          "height": 623
        },
        "id": "3LdudgynPq8g",
        "outputId": "bc54f25f-b296-4281-fd52-498ad1628462"
      },
      "execution_count": null,
      "outputs": [
        {
          "output_type": "stream",
          "name": "stdout",
          "text": [
            "Step 10: Training Accuracy = 0.7742, Validation Accuracy = 0.7789\n",
            "Step 20: Training Accuracy = 0.7921, Validation Accuracy = 0.7968\n",
            "Step 30: Training Accuracy = 0.7932, Validation Accuracy = 0.7974\n",
            "Step 40: Training Accuracy = 0.7932, Validation Accuracy = 0.7976\n",
            "Step 50: Training Accuracy = 0.7927, Validation Accuracy = 0.7971\n",
            "Step 60: Training Accuracy = 0.7929, Validation Accuracy = 0.7972\n",
            "Step 70: Training Accuracy = 0.7931, Validation Accuracy = 0.7976\n",
            "Step 80: Training Accuracy = 0.7930, Validation Accuracy = 0.7966\n",
            "Step 90: Training Accuracy = 0.7929, Validation Accuracy = 0.7971\n",
            "Step 100: Training Accuracy = 0.7939, Validation Accuracy = 0.7977\n"
          ]
        },
        {
          "output_type": "display_data",
          "data": {
            "text/plain": [
              "<Figure size 640x480 with 1 Axes>"
            ],
            "image/png": "[encoded data removed]"
          },
          "metadata": {}
        }
      ]
    },
    {
      "cell_type": "code",
      "source": [
        "from sklearn.svm import SVC\n",
        "import matplotlib.pyplot as plt\n",
        "\n",
        "model_SVC = SVC()\n",
        "history1 = model_SVC.fit(X_train, y_train)\n",
        "y_pred = model_SVC.predict(X_test)\n",
        "print(f'Accuracy for Support Vector classifier model is : {accuracy_score(y_pred, y_test)}')\n",
        "print(classification_report(y_pred,y_test))"
      ],
      "metadata": {
        "colab": {
          "base_uri": "https://localhost:8080/"
        },
        "id": "DHqk2ZV-QU5H",
        "outputId": "1a8d270b-a11a-4b08-f27d-9b48564400be"
      },
      "execution_count": null,
      "outputs": [
        {
          "output_type": "stream",
          "name": "stdout",
          "text": [
            "Accuracy for Support Vector classifier model is : 0.78514843562455\n",
            "              precision    recall  f1-score   support\n",
            "\n",
            "           0       0.94      0.74      0.83      8722\n",
            "           1       0.60      0.88      0.71      3775\n",
            "\n",
            "    accuracy                           0.79     12497\n",
            "   macro avg       0.77      0.81      0.77     12497\n",
            "weighted avg       0.83      0.79      0.79     12497\n",
            "\n"
          ]
        }
      ]
    },
    {
      "cell_type": "markdown",
      "source": [
        "# Decision tree Model"
      ],
      "metadata": {
        "id": "T053aVmsQj5M"
      }
    },
    {
      "cell_type": "code",
      "source": [
        "from sklearn.tree import DecisionTreeClassifier\n",
        "from sklearn.model_selection import train_test_split\n",
        "from sklearn.metrics import accuracy_score\n",
        "import matplotlib.pyplot as plt\n",
        "import warnings\n",
        "from sklearn.exceptions import ConvergenceWarning  # Import ConvergenceWarning\n",
        "\n",
        "# Create a Decision tree classifier\n",
        "model_DTC = DecisionTreeClassifier(max_leaf_nodes = 25, min_samples_split = 4, random_state = 42)  # Increase max_iter to avoid ConvergenceWarning\n",
        "\n",
        "# Disable ConvergenceWarning\n",
        "warnings.filterwarnings(\"ignore\", category=ConvergenceWarning)\n",
        "\n",
        "# Lists to store accuracy scores\n",
        "training_accuracy = []\n",
        "validation_accuracy = []\n",
        "\n",
        "# Train the model incrementally and record accuracy after every step\n",
        "for step in range(10, 101, 10):\n",
        "    # Train the model with a subset of data\n",
        "    model_DTC.fit(X_train[:step], y_train[:step])\n",
        "\n",
        "    # Make predictions on the training set\n",
        "    train_predictions = model_DTC.predict(X_train)\n",
        "\n",
        "    # Make predictions on the validation set\n",
        "    val_predictions = model_DTC.predict(X_test)\n",
        "\n",
        "    # Calculate accuracy on training and validation sets\n",
        "    train_accuracy = accuracy_score(y_train, train_predictions)\n",
        "    val_accuracy = accuracy_score(y_test, val_predictions)\n",
        "\n",
        "    # Store accuracy scores\n",
        "    training_accuracy.append(train_accuracy)\n",
        "    validation_accuracy.append(val_accuracy)\n",
        "\n",
        "    print(f'Step {step}: Training Accuracy = {train_accuracy:.4f}, Validation Accuracy = {val_accuracy:.4f}')\n",
        "\n",
        "# Plot the accuracy after every step\n",
        "plt.plot(range(10, 101, 10), training_accuracy, label='Training Accuracy')\n",
        "plt.plot(range(10, 101, 10), validation_accuracy, label='Validation Accuracy')\n",
        "plt.xlabel('Training Data Size')\n",
        "plt.ylabel('Accuracy')\n",
        "plt.legend()\n",
        "plt.show()\n"
      ],
      "metadata": {
        "colab": {
          "base_uri": "https://localhost:8080/",
          "height": 623
        },
        "id": "veijpNloQn5Z",
        "outputId": "5bab3143-4227-40b9-aded-a3a332f249f4"
      },
      "execution_count": null,
      "outputs": [
        {
          "output_type": "stream",
          "name": "stdout",
          "text": [
            "Step 10: Training Accuracy = 0.6813, Validation Accuracy = 0.6862\n",
            "Step 20: Training Accuracy = 0.8469, Validation Accuracy = 0.8487\n",
            "Step 30: Training Accuracy = 0.8512, Validation Accuracy = 0.8548\n",
            "Step 40: Training Accuracy = 0.9000, Validation Accuracy = 0.9024\n",
            "Step 50: Training Accuracy = 0.9098, Validation Accuracy = 0.9104\n",
            "Step 60: Training Accuracy = 0.9171, Validation Accuracy = 0.9155\n",
            "Step 70: Training Accuracy = 0.9196, Validation Accuracy = 0.9185\n",
            "Step 80: Training Accuracy = 0.9196, Validation Accuracy = 0.9185\n",
            "Step 90: Training Accuracy = 0.9494, Validation Accuracy = 0.9506\n",
            "Step 100: Training Accuracy = 0.9311, Validation Accuracy = 0.9285\n"
          ]
        },
        {
          "output_type": "display_data",
          "data": {
            "text/plain": [
              "<Figure size 640x480 with 1 Axes>"
            ],
            "image/png": "[encoded data removed]"
          },
          "metadata": {}
        }
      ]
    },
    {
      "cell_type": "code",
      "source": [
        "from sklearn.tree import DecisionTreeClassifier\n",
        "import matplotlib.pyplot as plt\n",
        "\n",
        "model_DTC = DecisionTreeClassifier(max_leaf_nodes = 25, min_samples_split = 4, random_state = 42)\n",
        "history1 = model_DTC.fit(X_train, y_train)\n",
        "y_pred = model_DTC.predict(X_test)\n",
        "print(f'Accuracy for decision tree model is : {accuracy_score(y_pred, y_test)}')\n",
        "print(classification_report(y_pred,y_test))"
      ],
      "metadata": {
        "colab": {
          "base_uri": "https://localhost:8080/"
        },
        "id": "eIwXf-SIRAOO",
        "outputId": "6deb76af-0fe8-44d8-e08c-468b0f25cf68"
      },
      "execution_count": null,
      "outputs": [
        {
          "output_type": "stream",
          "name": "stdout",
          "text": [
            "Accuracy for decision tree model is : 0.9847963511242698\n",
            "              precision    recall  f1-score   support\n",
            "\n",
            "           0       0.99      0.98      0.99      7019\n",
            "           1       0.98      0.99      0.98      5478\n",
            "\n",
            "    accuracy                           0.98     12497\n",
            "   macro avg       0.98      0.99      0.98     12497\n",
            "weighted avg       0.98      0.98      0.98     12497\n",
            "\n"
          ]
        }
      ]
    },
    {
      "cell_type": "markdown",
      "source": [
        "# ADABoost Model"
      ],
      "metadata": {
        "id": "t_8MlZgZSsWJ"
      }
    },
    {
      "cell_type": "code",
      "source": [
        "from sklearn.ensemble import AdaBoostClassifier\n",
        "from sklearn.model_selection import train_test_split\n",
        "from sklearn.metrics import accuracy_score\n",
        "import matplotlib.pyplot as plt\n",
        "import warnings\n",
        "from sklearn.exceptions import ConvergenceWarning  # Import ConvergenceWarning\n",
        "\n",
        "# Create a AdaBoost classifier\n",
        "model_ABC = AdaBoostClassifier()  # Increase max_iter to avoid ConvergenceWarning\n",
        "\n",
        "# Disable ConvergenceWarning\n",
        "warnings.filterwarnings(\"ignore\", category=ConvergenceWarning)\n",
        "\n",
        "# Lists to store accuracy scores\n",
        "training_accuracy = []\n",
        "validation_accuracy = []\n",
        "\n",
        "# Train the model incrementally and record accuracy after every step\n",
        "for step in range(10, 101, 10):\n",
        "    # Train the model with a subset of data\n",
        "    model_ABC.fit(X_train[:step], y_train[:step])\n",
        "\n",
        "    # Make predictions on the training set\n",
        "    train_predictions = model_ABC.predict(X_train)\n",
        "\n",
        "    # Make predictions on the validation set\n",
        "    val_predictions = model_ABC.predict(X_test)\n",
        "\n",
        "    # Calculate accuracy on training and validation sets\n",
        "    train_accuracy = accuracy_score(y_train, train_predictions)\n",
        "    val_accuracy = accuracy_score(y_test, val_predictions)\n",
        "\n",
        "    # Store accuracy scores\n",
        "    training_accuracy.append(train_accuracy)\n",
        "    validation_accuracy.append(val_accuracy)\n",
        "\n",
        "    print(f'Step {step}: Training Accuracy = {train_accuracy:.4f}, Validation Accuracy = {val_accuracy:.4f}')\n",
        "\n",
        "# Plot the accuracy after every step\n",
        "plt.plot(range(10, 101, 10), training_accuracy, label='Training Accuracy')\n",
        "plt.plot(range(10, 101, 10), validation_accuracy, label='Validation Accuracy')\n",
        "plt.xlabel('Training Data Size')\n",
        "plt.ylabel('Accuracy')\n",
        "plt.legend()\n",
        "plt.show()\n"
      ],
      "metadata": {
        "colab": {
          "base_uri": "https://localhost:8080/",
          "height": 623
        },
        "id": "cq_qEHJJTEUo",
        "outputId": "1d41e9e7-6200-4dd0-865d-6a5a66ca308d"
      },
      "execution_count": null,
      "outputs": [
        {
          "output_type": "stream",
          "name": "stdout",
          "text": [
            "Step 10: Training Accuracy = 0.6052, Validation Accuracy = 0.6219\n",
            "Step 20: Training Accuracy = 0.8211, Validation Accuracy = 0.8247\n",
            "Step 30: Training Accuracy = 0.8963, Validation Accuracy = 0.8981\n",
            "Step 40: Training Accuracy = 0.8806, Validation Accuracy = 0.8805\n",
            "Step 50: Training Accuracy = 0.9151, Validation Accuracy = 0.9123\n",
            "Step 60: Training Accuracy = 0.9081, Validation Accuracy = 0.9101\n",
            "Step 70: Training Accuracy = 0.9380, Validation Accuracy = 0.9404\n",
            "Step 80: Training Accuracy = 0.9305, Validation Accuracy = 0.9304\n",
            "Step 90: Training Accuracy = 0.9356, Validation Accuracy = 0.9334\n",
            "Step 100: Training Accuracy = 0.9517, Validation Accuracy = 0.9544\n"
          ]
        },
        {
          "output_type": "display_data",
          "data": {
            "text/plain": [
              "<Figure size 640x480 with 1 Axes>"
            ],
            "image/png": "[encoded data removed]"
          },
          "metadata": {}
        }
      ]
    },
    {
      "cell_type": "code",
      "source": [
        "from sklearn.ensemble import AdaBoostClassifier\n",
        "import matplotlib.pyplot as plt\n",
        "\n",
        "model_ABC = AdaBoostClassifier()\n",
        "history1 = model_ABC.fit(X_train, y_train)\n",
        "y_pred = model_ABC.predict(X_test)\n",
        "print(f'Accuracy for ADA boost model is : {accuracy_score(y_pred, y_test)}')\n",
        "print(classification_report(y_pred,y_test))"
      ],
      "metadata": {
        "colab": {
          "base_uri": "https://localhost:8080/"
        },
        "id": "LTbspTV-TWGD",
        "outputId": "a380eaa9-a47d-409d-8e5a-1e5d1dbecac9"
      },
      "execution_count": null,
      "outputs": [
        {
          "output_type": "stream",
          "name": "stdout",
          "text": [
            "Accuracy for ADA boost model is : 0.981915659758342\n",
            "              precision    recall  f1-score   support\n",
            "\n",
            "           0       0.98      0.99      0.98      6909\n",
            "           1       0.98      0.98      0.98      5588\n",
            "\n",
            "    accuracy                           0.98     12497\n",
            "   macro avg       0.98      0.98      0.98     12497\n",
            "weighted avg       0.98      0.98      0.98     12497\n",
            "\n"
          ]
        }
      ]
    },
    {
      "cell_type": "markdown",
      "source": [
        "# KNN Model"
      ],
      "metadata": {
        "id": "S98micF3TquA"
      }
    },
    {
      "cell_type": "code",
      "source": [
        "from sklearn.neighbors import KNeighborsClassifier\n",
        "from sklearn.model_selection import train_test_split\n",
        "from sklearn.metrics import accuracy_score\n",
        "import matplotlib.pyplot as plt\n",
        "import warnings\n",
        "from sklearn.exceptions import ConvergenceWarning  # Import ConvergenceWarning\n",
        "\n",
        "# Create a KNN model classifier\n",
        "model_KNN = KNeighborsClassifier(n_neighbors = 10)  # Increase max_iter to avoid ConvergenceWarning\n",
        "\n",
        "# Disable ConvergenceWarning\n",
        "warnings.filterwarnings(\"ignore\", category=ConvergenceWarning)\n",
        "\n",
        "# Lists to store accuracy scores\n",
        "training_accuracy = []\n",
        "validation_accuracy = []\n",
        "\n",
        "# Train the model incrementally and record accuracy after every step\n",
        "for step in range(10, 101, 10):\n",
        "    # Train the model with a subset of data\n",
        "    model_KNN.fit(X_train[:step], y_train[:step])\n",
        "\n",
        "    # Make predictions on the training set\n",
        "    train_predictions = model_KNN.predict(X_train)\n",
        "\n",
        "    # Make predictions on the validation set\n",
        "    val_predictions = model_KNN.predict(X_test)\n",
        "\n",
        "    # Calculate accuracy on training and validation sets\n",
        "    train_accuracy = accuracy_score(y_train, train_predictions)\n",
        "    val_accuracy = accuracy_score(y_test, val_predictions)\n",
        "\n",
        "    # Store accuracy scores\n",
        "    training_accuracy.append(train_accuracy)\n",
        "    validation_accuracy.append(val_accuracy)\n",
        "\n",
        "    print(f'Step {step}: Training Accuracy = {train_accuracy:.4f}, Validation Accuracy = {val_accuracy:.4f}')\n",
        "\n",
        "# Plot the accuracy after every step\n",
        "plt.plot(range(10, 101, 10), training_accuracy, label='Training Accuracy')\n",
        "plt.plot(range(10, 101, 10), validation_accuracy, label='Validation Accuracy')\n",
        "plt.xlabel('Training Data Size')\n",
        "plt.ylabel('Accuracy')\n",
        "plt.legend()\n",
        "plt.show()\n"
      ],
      "metadata": {
        "colab": {
          "base_uri": "https://localhost:8080/",
          "height": 623
        },
        "id": "uBVV3hQUUHaX",
        "outputId": "44182122-b2eb-42a9-fd76-b5ff4f7d57b7"
      },
      "execution_count": null,
      "outputs": [
        {
          "output_type": "stream",
          "name": "stdout",
          "text": [
            "Step 10: Training Accuracy = 0.5689, Validation Accuracy = 0.5546\n",
            "Step 20: Training Accuracy = 0.7463, Validation Accuracy = 0.7399\n",
            "Step 30: Training Accuracy = 0.7734, Validation Accuracy = 0.7674\n",
            "Step 40: Training Accuracy = 0.7921, Validation Accuracy = 0.7889\n",
            "Step 50: Training Accuracy = 0.8055, Validation Accuracy = 0.8028\n",
            "Step 60: Training Accuracy = 0.8659, Validation Accuracy = 0.8637\n",
            "Step 70: Training Accuracy = 0.8669, Validation Accuracy = 0.8643\n",
            "Step 80: Training Accuracy = 0.7811, Validation Accuracy = 0.7781\n",
            "Step 90: Training Accuracy = 0.7853, Validation Accuracy = 0.7811\n",
            "Step 100: Training Accuracy = 0.7940, Validation Accuracy = 0.7895\n"
          ]
        },
        {
          "output_type": "display_data",
          "data": {
            "text/plain": [
              "<Figure size 640x480 with 1 Axes>"
            ],
            "image/png": "[encoded data removed]"
          },
          "metadata": {}
        }
      ]
    },
    {
      "cell_type": "code",
      "source": [
        "from sklearn.neighbors import KNeighborsClassifier\n",
        "import matplotlib.pyplot as plt\n",
        "\n",
        "model_KNN = KNeighborsClassifier(n_neighbors = 10)\n",
        "history1 = model_KNN.fit(X_train, y_train)\n",
        "y_pred = model_KNN.predict(X_test)\n",
        "print(f'Accuracy for ADA boost model is : {accuracy_score(y_pred, y_test)}')\n",
        "print(classification_report(y_pred,y_test))"
      ],
      "metadata": {
        "colab": {
          "base_uri": "https://localhost:8080/"
        },
        "id": "bh4rCVHaUhMc",
        "outputId": "dbd05e57-8700-4f93-f309-c7762942b26a"
      },
      "execution_count": null,
      "outputs": [
        {
          "output_type": "stream",
          "name": "stdout",
          "text": [
            "Accuracy for ADA boost model is : 0.9730335280467313\n",
            "              precision    recall  f1-score   support\n",
            "\n",
            "           0       0.98      0.97      0.98      7052\n",
            "           1       0.96      0.98      0.97      5445\n",
            "\n",
            "    accuracy                           0.97     12497\n",
            "   macro avg       0.97      0.97      0.97     12497\n",
            "weighted avg       0.97      0.97      0.97     12497\n",
            "\n"
          ]
        }
      ]
    },
    {
      "cell_type": "markdown",
      "source": [
        "# Our proposed architecture"
      ],
      "metadata": {
        "id": "6tdFwsS7U4T7"
      }
    },
    {
      "cell_type": "markdown",
      "source": [
        "1. We have used tenosrflow library to develop the ANN (Artificial Neural Network)\n",
        "\n",
        "2. We have developed the model which has 3 hidden layers in which\n",
        "  \n",
        "  1st hidden layer has -> 20 neurons and activation function is \"sigmoid\"\n",
        "\n",
        "  2nd hidden layer has -> 15 neurons and activation function is \"sigmoid\"\n",
        "\n",
        "  3rd hidden layer has -> 10 neurons and activation function is \"sigmoid\"\n",
        "\n",
        "3. We have used sigmoid activation funciton as it gives better result for binary class classification and if this was a multiclass classification model we would have used softmax activation function\n",
        "\n",
        "4. Here the number of epochs we have used is 50\n"
      ],
      "metadata": {
        "id": "Kf26ww7MeSJ1"
      }
    },
    {
      "cell_type": "code",
      "source": [
        "import numpy as np\n",
        "import matplotlib.pyplot as plt\n",
        "from tensorflow.keras.models import Sequential\n",
        "from tensorflow.keras.layers import Dense\n",
        "from sklearn.model_selection import train_test_split\n",
        "\n",
        "# Create a simple binary classification model using Keras\n",
        "model = Sequential()\n",
        "model.add(Dense(units=20, input_dim=15, activation='sigmoid'))\n",
        "model.add(Dense(units=15, activation='sigmoid'))\n",
        "model.add(Dense(units=10, activation='sigmoid'))\n",
        "model.add(Dense(units=1, activation='sigmoid'))\n",
        "model.compile(optimizer='adam', loss='binary_crossentropy', metrics=['accuracy'])\n",
        "\n",
        "# Train the model and store the training history\n",
        "history = model.fit(X_train, y_train, epochs=50, validation_data=(X_test, y_test), verbose=0)\n",
        "\n",
        "print(history)\n",
        "\n",
        "# Access training history\n",
        "training_accuracy = history.history['accuracy']\n",
        "validation_accuracy = history.history['val_accuracy']\n",
        "\n",
        "# Plot the training accuracy and validation accuracy over epochs\n",
        "plt.plot(training_accuracy, label='Training Accuracy')\n",
        "plt.plot(validation_accuracy, label='Validation Accuracy')\n",
        "plt.xlabel('Epoch')\n",
        "plt.ylabel('Accuracy')\n",
        "plt.legend()\n",
        "plt.show()\n"
      ],
      "metadata": {
        "colab": {
          "base_uri": "https://localhost:8080/",
          "height": 466
        },
        "id": "fIAtXDaiVN1Y",
        "outputId": "ce87cb42-6c4b-4996-d1bb-b81ea4f9c00c"
      },
      "execution_count": null,
      "outputs": [
        {
          "output_type": "stream",
          "name": "stdout",
          "text": [
            "<keras.src.callbacks.History object at 0x7e623c6a2980>\n"
          ]
        },
        {
          "output_type": "display_data",
          "data": {
            "text/plain": [
              "<Figure size 640x480 with 1 Axes>"
            ],
            "image/png": "[encoded data removed]"
          },
          "metadata": {}
        }
      ]
    },
    {
      "cell_type": "code",
      "source": [
        "print(f'Training accuracy of our model is {training_accuracy[-1]}')\n",
        "print(f'Validation accuracy of our model is {validation_accuracy[-1]}')"
      ],
      "metadata": {
        "colab": {
          "base_uri": "https://localhost:8080/"
        },
        "id": "gS3Y4la-ahKP",
        "outputId": "57a0b3c8-700f-432e-fae0-d4cb8b9d7545"
      },
      "execution_count": null,
      "outputs": [
        {
          "output_type": "stream",
          "name": "stdout",
          "text": [
            "Training accuracy of our model is 0.6929863095283508\n",
            "Validation accuracy of our model is 0.6854445338249207\n"
          ]
        }
      ]
    },
    {
      "cell_type": "code",
      "source": [
        "# Summary of our model to better understand the paramneters and the layers\n",
        "model.summary()"
      ],
      "metadata": {
        "colab": {
          "base_uri": "https://localhost:8080/"
        },
        "id": "nmR2wpzCfksw",
        "outputId": "ebd89826-5d09-469a-b23e-93e28bffc295"
      },
      "execution_count": null,
      "outputs": [
        {
          "output_type": "stream",
          "name": "stdout",
          "text": [
            "Model: \"sequential_7\"\n",
            "_________________________________________________________________\n",
            " Layer (type)                Output Shape              Param #   \n",
            "=================================================================\n",
            " dense_20 (Dense)            (None, 20)                320       \n",
            "                                                                 \n",
            " dense_21 (Dense)            (None, 15)                315       \n",
            "                                                                 \n",
            " dense_22 (Dense)            (None, 10)                160       \n",
            "                                                                 \n",
            " dense_23 (Dense)            (None, 1)                 11        \n",
            "                                                                 \n",
            "=================================================================\n",
            "Total params: 806 (3.15 KB)\n",
            "Trainable params: 806 (3.15 KB)\n",
            "Non-trainable params: 0 (0.00 Byte)\n",
            "_________________________________________________________________\n"
          ]
        }
      ]
    },
    {
      "cell_type": "code",
      "source": [
        "predictions = model.predict(X_test)\n",
        "# Evaluate the accuracy\n",
        "binary_predictions = (predictions > 0.5).astype(int)\n",
        "accuracy = accuracy_score(y_test, binary_predictions)\n",
        "print(f\"Accuracy: {accuracy}\")"
      ],
      "metadata": {
        "colab": {
          "base_uri": "https://localhost:8080/"
        },
        "id": "-wv3pMxzVmjG",
        "outputId": "275dee80-27d3-4601-a0f2-163c60308c17"
      },
      "execution_count": null,
      "outputs": [
        {
          "output_type": "stream",
          "name": "stdout",
          "text": [
            "391/391 [==============================] - 1s 2ms/step\n",
            "Accuracy: 0.6854445066816036\n"
          ]
        }
      ]
    },
    {
      "cell_type": "markdown",
      "source": [
        "# Now input the data so that our model could predict on that data"
      ],
      "metadata": {
        "id": "v2HE1yS7X-o8"
      }
    },
    {
      "cell_type": "code",
      "source": [
        "import numpy as np\n",
        "\n",
        "Machine = int(input(\"Enter Machine : \"))\n",
        "DebugSize = int(input(\"Enter DebugSize : \"))\n",
        "DebugRVA = int(input(\"Enter DebugRVA : \"))\n",
        "MajorImageVersion = int(input(\"Enter MajorImageVersion : \"))\n",
        "MajorOSVersion = int(input(\"Enter MajorOSVersion : \"))\n",
        "ExportRVA = int(input(\"Enter ExportRVA : \"))\n",
        "ExportSize = int(input(\"Enter ExportSize : \"))\n",
        "IatVRA = int(input(\" Enter IatVRA : \"))\n",
        "MajorLinkerVersion = int(input(\"Enter MajorLinkerVersion : \"))\n",
        "MinorLinkerVersion = int(input(\"Enter MinorLinkerVersion : \"))\n",
        "NumberOfSections = int(input(\"Enter NumberOfSections : \"))\n",
        "SizeOfStackReserve = int(input(\"Enter SizeOfStackReserve : \"))\n",
        "DIICharacteristics = int(input(\"Enter DIICharacteristics : \"))\n",
        "ResourceSize = int(input(\"Enter ResourceSize : \"))\n",
        "BitcoinAddresses = int(input(\"Enter BitcoinAddresses : \"))\n",
        "\n",
        "inp = [Machine, DebugSize, DebugRVA, MajorImageVersion, MajorOSVersion, ExportRVA, ExportSize, IatVRA, MajorLinkerVersion,\n",
        "       MinorLinkerVersion, NumberOfSections, SizeOfStackReserve, DIICharacteristics, ResourceSize, BitcoinAddresses]\n",
        "\n",
        "# inp = [332,0,0,0,4,0,0,8192,8,0,3,1048576,34112,672,0]\n",
        "\n",
        "user_input_array = np.array(inp).reshape(1, 15)\n",
        "# print (user_input_array)\n",
        "\n",
        "prediction = model_KNN.predict(user_input_array)\n",
        "\n",
        "print(f\"Predicted Probability: {prediction}\")"
      ],
      "metadata": {
        "colab": {
          "base_uri": "https://localhost:8080/"
        },
        "id": "ryL2lm72f8s0",
        "outputId": "e3564ea5-18e8-455b-edd3-ab654678fd71"
      },
      "execution_count": null,
      "outputs": [
        {
          "output_type": "stream",
          "name": "stdout",
          "text": [
            "Enter Machine : 332\n",
            "Enter DebugSize : 0\n",
            "Enter DebugRVA : 0\n",
            "Enter MajorImageVersion : 0\n",
            "Enter MajorOSVersion : 4\n",
            "Enter ExportRVA : 0\n",
            "Enter ExportSize : 0\n",
            " Enter IatVRA : 8192\n",
            "Enter MajorLinkerVersion : 8\n",
            "Enter MinorLinkerVersion : 0\n",
            "Enter NumberOfSections : 3\n",
            "Enter SizeOfStackReserve : 1048576\n",
            "Enter DIICharacteristics : 34112\n",
            "Enter ResourceSize : 672\n",
            "Enter BitcoinAddresses : 0\n",
            "Predicted Probability: [1]\n"
          ]
        },
        {
          "output_type": "stream",
          "name": "stderr",
          "text": [
            "/usr/local/lib/python3.10/dist-packages/sklearn/base.py:439: UserWarning: X does not have valid feature names, but KNeighborsClassifier was fitted with feature names\n",
            "  warnings.warn(\n"
          ]
        }
      ]
    },
    {
      "cell_type": "code",
      "source": [],
      "metadata": {
        "id": "KwGjHsFqp_vd"
      },
      "execution_count": null,
      "outputs": []
    }
  ]
}